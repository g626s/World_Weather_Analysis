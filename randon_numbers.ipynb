{
 "cells": [
  {
   "cell_type": "markdown",
   "id": "ebe13018",
   "metadata": {},
   "source": [
    "# Generate Random Latitudes and Longitudes"
   ]
  },
  {
   "cell_type": "markdown",
   "id": "f04bada2",
   "metadata": {},
   "source": [
    "The random Module"
   ]
  },
  {
   "cell_type": "code",
   "execution_count": 1,
   "id": "58cd7ef9",
   "metadata": {},
   "outputs": [],
   "source": [
    "# Import random module.\n",
    "import random"
   ]
  },
  {
   "cell_type": "code",
   "execution_count": 2,
   "id": "77f9ea43",
   "metadata": {},
   "outputs": [
    {
     "data": {
      "text/plain": [
       "-57"
      ]
     },
     "execution_count": 2,
     "metadata": {},
     "output_type": "execute_result"
    }
   ],
   "source": [
    "random.randint(-90, 90)"
   ]
  },
  {
   "cell_type": "code",
   "execution_count": 3,
   "id": "07bed32b",
   "metadata": {},
   "outputs": [
    {
     "data": {
      "text/plain": [
       "0.8679916809649777"
      ]
     },
     "execution_count": 3,
     "metadata": {},
     "output_type": "execute_result"
    }
   ],
   "source": [
    "random.random()"
   ]
  },
  {
   "cell_type": "code",
   "execution_count": 4,
   "id": "5b8b0fa5",
   "metadata": {},
   "outputs": [
    {
     "data": {
      "text/plain": [
       "-4.403073097987611"
      ]
     },
     "execution_count": 4,
     "metadata": {},
     "output_type": "execute_result"
    }
   ],
   "source": [
    "random_number = random.randint(-90, 89) + random.random()\n",
    "random_number"
   ]
  },
  {
   "cell_type": "code",
   "execution_count": 5,
   "id": "cfaab413",
   "metadata": {},
   "outputs": [],
   "source": [
    "# Write an algorithm that will generate latitudes between -90 and 89.\n",
    "x = 1\n",
    "latitudes = []\n",
    "while x < 11:\n",
    "    random_lat = random.randint(-90, 89) + random.random()\n",
    "    latitudes.append(random_lat)\n",
    "    x += 1"
   ]
  },
  {
   "cell_type": "code",
   "execution_count": 6,
   "id": "836e9775",
   "metadata": {},
   "outputs": [
    {
     "data": {
      "text/plain": [
       "[49.852192510608134,\n",
       " 4.7116076512702385,\n",
       " 63.622280897215056,\n",
       " -16.050739445648986,\n",
       " -25.972710403116285,\n",
       " -21.213899460605425,\n",
       " -71.96737810890873,\n",
       " 6.762847744025364,\n",
       " -82.20841132825512,\n",
       " -85.53821021143614]"
      ]
     },
     "execution_count": 6,
     "metadata": {},
     "output_type": "execute_result"
    }
   ],
   "source": [
    "# Output of latitudes from writing the previous code.\n",
    "latitudes"
   ]
  },
  {
   "cell_type": "code",
   "execution_count": 7,
   "id": "aa362dd4",
   "metadata": {},
   "outputs": [
    {
     "data": {
      "text/plain": [
       "65"
      ]
     },
     "execution_count": 7,
     "metadata": {},
     "output_type": "execute_result"
    }
   ],
   "source": [
    "random.randrange(-90, 90, step= 1)"
   ]
  },
  {
   "cell_type": "code",
   "execution_count": 8,
   "id": "a5af9381",
   "metadata": {},
   "outputs": [
    {
     "data": {
      "text/plain": [
       "60"
      ]
     },
     "execution_count": 8,
     "metadata": {},
     "output_type": "execute_result"
    }
   ],
   "source": [
    "random.randrange(-90, 90, step= 3)"
   ]
  },
  {
   "cell_type": "code",
   "execution_count": 9,
   "id": "feeef889",
   "metadata": {},
   "outputs": [
    {
     "data": {
      "text/plain": [
       "22.917685994210387"
      ]
     },
     "execution_count": 9,
     "metadata": {},
     "output_type": "execute_result"
    }
   ],
   "source": [
    "random.uniform(-90, 90)"
   ]
  },
  {
   "cell_type": "markdown",
   "id": "d1993d32",
   "metadata": {},
   "source": [
    "The NumPy and random Modules"
   ]
  },
  {
   "cell_type": "code",
   "execution_count": 10,
   "id": "fb5ae87c",
   "metadata": {},
   "outputs": [],
   "source": [
    "# Import the NumPy module.\n",
    "import numpy as np"
   ]
  },
  {
   "cell_type": "code",
   "execution_count": 11,
   "id": "4f28da83",
   "metadata": {},
   "outputs": [
    {
     "data": {
      "text/plain": [
       "-49.85208472849997"
      ]
     },
     "execution_count": 11,
     "metadata": {},
     "output_type": "execute_result"
    }
   ],
   "source": [
    "np.random.uniform(-90.000, 90.000)"
   ]
  },
  {
   "cell_type": "code",
   "execution_count": 12,
   "id": "45c1de1f",
   "metadata": {},
   "outputs": [
    {
     "data": {
      "text/plain": [
       "array([ 35.37096131, -82.82846771,  -1.9059921 ,  73.46198109,\n",
       "       -73.16230769,  65.13474373, -48.0979312 , -87.84147982,\n",
       "        63.83371801, -15.58959305, -42.05391213, -81.65864507,\n",
       "        -1.91665044, -75.02555603,  48.86087485,  40.03002009,\n",
       "       -85.07120302, -55.53676972,  25.41047306,  19.6053176 ,\n",
       "        37.0083151 ,  80.79365308, -26.80043297, -73.76333609,\n",
       "        80.87799987, -44.46062324, -62.74566212,  66.44765388,\n",
       "        28.85745228, -72.54937285,  73.0328227 ,  67.15320998,\n",
       "        44.40778666,  50.99698281, -88.84792694,  22.25425938,\n",
       "        -4.4071707 ,  73.88784269,  31.79072372, -78.47774238,\n",
       "       -35.53342611,   1.90483037,  47.91332674,   4.13211762,\n",
       "       -39.06253829,  64.20628222,  83.03851807,  72.84375917,\n",
       "        29.54327414,   9.64799426])"
      ]
     },
     "execution_count": 12,
     "metadata": {},
     "output_type": "execute_result"
    }
   ],
   "source": [
    "np.random.uniform(-90.000, 90.000, size= 50)"
   ]
  },
  {
   "cell_type": "code",
   "execution_count": 13,
   "id": "61506fd6",
   "metadata": {},
   "outputs": [],
   "source": [
    "# Test how long a piece of code or function takes to run using the \"timeit\" module.\n",
    "\n",
    "# Import timeit.\n",
    "import timeit"
   ]
  },
  {
   "cell_type": "code",
   "execution_count": 14,
   "id": "dad049df",
   "metadata": {},
   "outputs": [
    {
     "name": "stdout",
     "output_type": "stream",
     "text": [
      "18 µs ± 376 ns per loop (mean ± std. dev. of 7 runs, 100,000 loops each)\n"
     ]
    }
   ],
   "source": [
    "%timeit np.random.uniform(-90.000, 90.000, size= 1500)"
   ]
  },
  {
   "cell_type": "code",
   "execution_count": 15,
   "id": "8e1a1318",
   "metadata": {},
   "outputs": [
    {
     "name": "stdout",
     "output_type": "stream",
     "text": [
      "1.95 ms ± 104 µs per loop (mean ± std. dev. of 7 runs, 100 loops each)\n"
     ]
    }
   ],
   "source": [
    "# Run the while loop as a function.\n",
    "def latitudes(size):\n",
    "    latitudes = []\n",
    "    x = 0\n",
    "    while x < (size):\n",
    "        random_lat = random.randint(-90, 90) + random.random()\n",
    "        latitudes.append(random_lat)\n",
    "        x += 1\n",
    "    return latitudes\n",
    "\n",
    "# Call the function with 1500.\n",
    "%timeit latitudes(1500)"
   ]
  }
 ],
 "metadata": {
  "kernelspec": {
   "display_name": "PythonData",
   "language": "python",
   "name": "pythondata"
  },
  "language_info": {
   "codemirror_mode": {
    "name": "ipython",
    "version": 3
   },
   "file_extension": ".py",
   "mimetype": "text/x-python",
   "name": "python",
   "nbconvert_exporter": "python",
   "pygments_lexer": "ipython3",
   "version": "3.9.12"
  }
 },
 "nbformat": 4,
 "nbformat_minor": 5
}
